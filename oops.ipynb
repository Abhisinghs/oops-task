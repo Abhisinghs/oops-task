{
 "cells": [
  {
   "cell_type": "code",
   "execution_count": 1,
   "id": "cd6d04bf-fa25-4f46-9f87-9494915692dd",
   "metadata": {},
   "outputs": [],
   "source": [
    "#Answer-1\n",
    "\n",
    "class vehicle:\n",
    "    def __init__(self,name,max_speed,average):\n",
    "        self.name_of_vehicle=name\n",
    "        self.max_speed_of_vehicle=max_speed\n",
    "        self.average_of_vehicle=average\n",
    "\n"
   ]
  },
  {
   "cell_type": "code",
   "execution_count": 19,
   "id": "dc69bf47-d7c4-4c6f-b8d7-dae4fbafa023",
   "metadata": {},
   "outputs": [],
   "source": [
    "#Answer-2\n",
    "#child class of vehicle that inherit the vehicle class\n",
    "\n",
    "class car(vehicle):\n",
    "    def seating_capacity(self,capacity):\n",
    "        seating_capacity=capacity\n",
    "        return self.name_of_vehicle,seating_capacity\n",
    "        "
   ]
  },
  {
   "cell_type": "code",
   "execution_count": 20,
   "id": "80faba36-c215-4c09-af80-5b8645d72a0c",
   "metadata": {},
   "outputs": [],
   "source": [
    "car_object = car(\"Jaguar\",150,60)"
   ]
  },
  {
   "cell_type": "code",
   "execution_count": 21,
   "id": "6d6eb544-dd3c-4271-b007-cb8f1413fd2f",
   "metadata": {},
   "outputs": [
    {
     "data": {
      "text/plain": [
       "('Jaguar', 4)"
      ]
     },
     "execution_count": 21,
     "metadata": {},
     "output_type": "execute_result"
    }
   ],
   "source": [
    "car_object.seating_capacity(4)"
   ]
  },
  {
   "cell_type": "code",
   "execution_count": 34,
   "id": "371fd79f-6972-4fe1-9c72-275f51375cbd",
   "metadata": {},
   "outputs": [],
   "source": [
    "#Answer-3\n",
    "\n",
    "#multiple inheritance can be define as when one child class can inherit the property of two parent class\n",
    "#at a same time is called multiple inheritance\n",
    "\n",
    "#example:\n",
    "\n",
    "class father:\n",
    "    def show(self):\n",
    "        print(\"father class\")\n",
    "\n",
    "class mother:\n",
    "    def show1(self):\n",
    "        print(\"mother class\")\n",
    "\n",
    "class child(father,mother):\n",
    "    pass"
   ]
  },
  {
   "cell_type": "code",
   "execution_count": 37,
   "id": "c6cf29da-539a-409d-b84a-aee55a25fa34",
   "metadata": {},
   "outputs": [
    {
     "name": "stdout",
     "output_type": "stream",
     "text": [
      "father class\n",
      "mother class\n"
     ]
    }
   ],
   "source": [
    "child_object=child()\n",
    "child_object.show()\n",
    "child_object.show1()\n",
    "#child class can access both class by using of multiple inheritance"
   ]
  },
  {
   "cell_type": "code",
   "execution_count": 39,
   "id": "def643f2-7ee2-49e5-84ab-8ad18705c81b",
   "metadata": {},
   "outputs": [],
   "source": [
    "#Answer-4\n",
    "# Getter: A method that allows you to access an attribute in a given class.\n",
    "# Setter: A method that allows you to set or mutate the value of an attribute in a class\n",
    "\n",
    "# so we create method and attribute are private \n",
    "\n",
    "class student:\n",
    "    def set_name(self,name):\n",
    "        self.__name=name\n",
    "    def get_name(self):\n",
    "        print(self.__name)\n",
    "    def set_marks(self,marks):\n",
    "        self.__marks=marks\n",
    "    def get_marks(self):\n",
    "        print(self.__marks)"
   ]
  },
  {
   "cell_type": "code",
   "execution_count": 47,
   "id": "984656e5-2ea6-461d-8a04-67f2a6ffef0a",
   "metadata": {},
   "outputs": [],
   "source": [
    "student_object= student()"
   ]
  },
  {
   "cell_type": "code",
   "execution_count": 42,
   "id": "b14a7e02-126c-4fbe-96a5-5cc8abe81fa4",
   "metadata": {},
   "outputs": [
    {
     "name": "stdout",
     "output_type": "stream",
     "text": [
      "abhi\n",
      "95\n"
     ]
    }
   ],
   "source": [
    "student_object.set_name(\"abhi\")\n",
    "student_object.get_name()\n",
    "student_object.set_marks(95)\n",
    "student_object.get_marks()\n",
    "#we can not access private attribute of a class but we can use this attribute using methods "
   ]
  },
  {
   "cell_type": "code",
   "execution_count": 48,
   "id": "68c9cb44-9e86-4a64-9a7f-4985f5ea7a29",
   "metadata": {},
   "outputs": [
    {
     "name": "stdout",
     "output_type": "stream",
     "text": [
      "Inside Parent\n",
      "Inside Child\n"
     ]
    }
   ],
   "source": [
    "#Answer-5\n",
    "\n",
    "#overriding can be define as when same name of function with same signature of parent class and child class is \n",
    "#called overriding \n",
    "\n",
    "class Parent():\n",
    "      \n",
    "    # Constructor\n",
    "    def __init__(self):\n",
    "        self.value = \"Inside Parent\"\n",
    "    def show(self):\n",
    "        print(self.value)\n",
    "          \n",
    "class Child(Parent):\n",
    "      \n",
    "    # Constructor\n",
    "    def __init__(self):\n",
    "        self.value = \"Inside Child\"\n",
    "    def show(self):\n",
    "        print(self.value)\n",
    "          \n",
    "          \n",
    "#Driver's code\n",
    "obj1 = Parent()\n",
    "obj2 = Child()\n",
    "  \n",
    "obj1.show()\n",
    "obj2.show()"
   ]
  }
 ],
 "metadata": {
  "kernelspec": {
   "display_name": "Python 3 (ipykernel)",
   "language": "python",
   "name": "python3"
  },
  "language_info": {
   "codemirror_mode": {
    "name": "ipython",
    "version": 3
   },
   "file_extension": ".py",
   "mimetype": "text/x-python",
   "name": "python",
   "nbconvert_exporter": "python",
   "pygments_lexer": "ipython3",
   "version": "3.10.8"
  }
 },
 "nbformat": 4,
 "nbformat_minor": 5
}
